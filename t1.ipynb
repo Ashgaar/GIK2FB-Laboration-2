{
 "cells": [
  {
   "cell_type": "code",
   "execution_count": 2,
   "metadata": {},
   "outputs": [],
   "source": [
    "#imports\n",
    "import pandas as pd\n",
    "import seaborn as sns\n",
    "import matplotlib.pyplot as plt\n",
    "import numpy as np\n",
    "from sklearn.model_selection import train_test_split\n",
    "from sklearn.neighbors import KNeighborsClassifier"
   ]
  },
  {
   "cell_type": "code",
   "execution_count": 3,
   "metadata": {},
   "outputs": [],
   "source": [
    "#read data\n",
    "file_path = 'data\\seeds_dataset_ver2.txt'"
   ]
  },
  {
   "cell_type": "code",
   "execution_count": 4,
   "metadata": {},
   "outputs": [
    {
     "name": "stdout",
     "output_type": "stream",
     "text": [
      "0\n",
      "0\n"
     ]
    }
   ],
   "source": [
    "#making a dataframe from the txt file. \n",
    "#Original seeds data was wrong format so we had to fix it, which gives us seeds_ver2\n",
    "df = pd.read_table(file_path, delimiter=\"\\t\", names=('area', 'perimeter', 'compactness','length_kernel','width_kernel', 'asymmetry_coefficient','length_kernel_groove','wheat_varieties'))\n",
    "\n",
    "#check for null and NaN values.\n",
    "print(df['wheat_varieties'].isnull().sum())\n",
    "print(df['wheat_varieties'].isna().sum())"
   ]
  },
  {
   "cell_type": "code",
   "execution_count": 5,
   "metadata": {},
   "outputs": [
    {
     "name": "stdout",
     "output_type": "stream",
     "text": [
      "             area   perimeter  compactness  length_kernel  width_kernel  \\\n",
      "count  210.000000  210.000000   210.000000     210.000000    210.000000   \n",
      "mean    14.847524   14.559286     0.870999       5.628533      3.258605   \n",
      "std      2.909699    1.305959     0.023629       0.443063      0.377714   \n",
      "min     10.590000   12.410000     0.808100       4.899000      2.630000   \n",
      "25%     12.270000   13.450000     0.856900       5.262250      2.944000   \n",
      "50%     14.355000   14.320000     0.873450       5.523500      3.237000   \n",
      "75%     17.305000   15.715000     0.887775       5.979750      3.561750   \n",
      "max     21.180000   17.250000     0.918300       6.675000      4.033000   \n",
      "\n",
      "       asymmetry_coefficient  length_kernel_groove  wheat_varieties  \n",
      "count             210.000000            210.000000       210.000000  \n",
      "mean                3.700201              5.408071         2.000000  \n",
      "std                 1.503557              0.491480         0.818448  \n",
      "min                 0.765100              4.519000         1.000000  \n",
      "25%                 2.561500              5.045000         1.000000  \n",
      "50%                 3.599000              5.223000         2.000000  \n",
      "75%                 4.768750              5.877000         3.000000  \n",
      "max                 8.456000              6.550000         3.000000  \n"
     ]
    }
   ],
   "source": [
    "print(df.describe())"
   ]
  },
  {
   "cell_type": "markdown",
   "metadata": {},
   "source": [
    "k 3 5 7 \n",
    "1 : 75% test = 25%\n",
    "2 : 2/3 test = 1/3\n",
    "3 : 50% test = 50%\n"
   ]
  },
  {
   "cell_type": "code",
   "execution_count": 6,
   "metadata": {},
   "outputs": [
    {
     "data": {
      "text/html": [
       "<div>\n",
       "<style scoped>\n",
       "    .dataframe tbody tr th:only-of-type {\n",
       "        vertical-align: middle;\n",
       "    }\n",
       "\n",
       "    .dataframe tbody tr th {\n",
       "        vertical-align: top;\n",
       "    }\n",
       "\n",
       "    .dataframe thead th {\n",
       "        text-align: right;\n",
       "    }\n",
       "</style>\n",
       "<table border=\"1\" class=\"dataframe\">\n",
       "  <thead>\n",
       "    <tr style=\"text-align: right;\">\n",
       "      <th></th>\n",
       "      <th>area</th>\n",
       "      <th>perimeter</th>\n",
       "      <th>compactness</th>\n",
       "      <th>length_kernel</th>\n",
       "      <th>width_kernel</th>\n",
       "      <th>asymmetry_coefficient</th>\n",
       "      <th>length_kernel_groove</th>\n",
       "      <th>wheat_varieties</th>\n",
       "    </tr>\n",
       "  </thead>\n",
       "  <tbody>\n",
       "    <tr>\n",
       "      <th>0</th>\n",
       "      <td>15.26</td>\n",
       "      <td>14.84</td>\n",
       "      <td>0.871</td>\n",
       "      <td>5.763</td>\n",
       "      <td>3.312</td>\n",
       "      <td>2.221</td>\n",
       "      <td>5.22</td>\n",
       "      <td>1</td>\n",
       "    </tr>\n",
       "  </tbody>\n",
       "</table>\n",
       "</div>"
      ],
      "text/plain": [
       "    area  perimeter  compactness  length_kernel  width_kernel  \\\n",
       "0  15.26      14.84        0.871          5.763         3.312   \n",
       "\n",
       "   asymmetry_coefficient  length_kernel_groove  wheat_varieties  \n",
       "0                  2.221                  5.22                1  "
      ]
     },
     "execution_count": 6,
     "metadata": {},
     "output_type": "execute_result"
    }
   ],
   "source": [
    "df.iloc[:,1]"
   ]
  },
  {
   "cell_type": "code",
   "execution_count": 7,
   "metadata": {},
   "outputs": [
    {
     "data": {
      "text/html": [
       "<div>\n",
       "<style scoped>\n",
       "    .dataframe tbody tr th:only-of-type {\n",
       "        vertical-align: middle;\n",
       "    }\n",
       "\n",
       "    .dataframe tbody tr th {\n",
       "        vertical-align: top;\n",
       "    }\n",
       "\n",
       "    .dataframe thead th {\n",
       "        text-align: right;\n",
       "    }\n",
       "</style>\n",
       "<table border=\"1\" class=\"dataframe\">\n",
       "  <thead>\n",
       "    <tr style=\"text-align: right;\">\n",
       "      <th></th>\n",
       "      <th>area</th>\n",
       "      <th>perimeter</th>\n",
       "      <th>compactness</th>\n",
       "      <th>length_kernel</th>\n",
       "      <th>width_kernel</th>\n",
       "      <th>asymmetry_coefficient</th>\n",
       "      <th>length_kernel_groove</th>\n",
       "      <th>wheat_varieties</th>\n",
       "    </tr>\n",
       "  </thead>\n",
       "  <tbody>\n",
       "    <tr>\n",
       "      <th>0</th>\n",
       "      <td>15.26</td>\n",
       "      <td>14.84</td>\n",
       "      <td>0.871</td>\n",
       "      <td>5.763</td>\n",
       "      <td>3.312</td>\n",
       "      <td>2.221</td>\n",
       "      <td>5.22</td>\n",
       "      <td>1</td>\n",
       "    </tr>\n",
       "  </tbody>\n",
       "</table>\n",
       "</div>"
      ],
      "text/plain": [
       "    area  perimeter  compactness  length_kernel  width_kernel  \\\n",
       "0  15.26      14.84        0.871          5.763         3.312   \n",
       "\n",
       "   asymmetry_coefficient  length_kernel_groove  wheat_varieties  \n",
       "0                  2.221                  5.22                1  "
      ]
     },
     "execution_count": 7,
     "metadata": {},
     "output_type": "execute_result"
    }
   ],
   "source": [
    "df[:1]"
   ]
  },
  {
   "cell_type": "code",
   "execution_count": 8,
   "metadata": {},
   "outputs": [],
   "source": [
    "#Function for task : a different k with original data.\n",
    "#byt namn på det sen\n",
    "def task_a1(k_value, x_train, y_train, x_test,  y_test):\n",
    "    k = k_value\n",
    "    knn = KNeighborsClassifier(n_neighbors=k)\n",
    "\n",
    "    print(\"df shape: {}\\ny_train shape: {}\".format(x_train.shape, y_train.shape))\n",
    "    knn.fit(x_train,y_train)\n",
    "\n",
    "    #creating a prediction array for the test set.\n",
    "    y_predict = knn.predict(x_test)\n",
    "\n",
    "    #creating confusion_matrix and printing out the value\n",
    "    confusion_matrix = pd.crosstab(y_test, y_predict, rownames=['Actual'], colnames=['Predicted'])\n",
    "    print(\"\\nCONFUSION MATRIX:\\n\",confusion_matrix)    \n",
    "\n",
    "    # based on the training dataset, our model predicts the following for the test set:\n",
    "    pd.concat([x_test, y_test, pd.Series(y_predict, name='Predicted', index=x_test.index)], \n",
    "          ignore_index=False, axis=1)\n",
    "\n",
    "    #Accuracy value of the test.\n",
    "    print(\"\\nACCURACY: {:.2f}\".format(knn.score(x_train, y_train)))\n",
    "    print(f'Using  K = {k}')"
   ]
  },
  {
   "cell_type": "code",
   "execution_count": 9,
   "metadata": {},
   "outputs": [],
   "source": [
    "def task_a2(k_value, train_value, test_value, use_data):\n",
    "\n",
    "    #Split data into training and test sets\n",
    "    #Tried with random state 42, but that makes the differnce small\n",
    "    X_train, X_test, Y_train, Y_test = train_test_split(use_data[['area', 'perimeter','compactness',\n",
    "        'length_kernel','width_kernel','asymmetry_coefficient','length_kernel_groove']],\n",
    "         use_data['wheat_varieties'], random_state=100, test_size=test_value, train_size= train_value)\n",
    "\n",
    "    # see how data has been split\n",
    "    print(\"X_train shape: {}\\ny_train shape: {}\".format(X_train.shape, Y_train.shape))\n",
    "    print(\"X_test shape: {}\\ny_test shape: {}\".format(X_test.shape, Y_test.shape))\n",
    "\n",
    "    #show training data\n",
    "    #print('\\nshow training data\\n',X_train,y_train)\n",
    "    #print trains\n",
    "    #print('\\n',X_train, y_train)\n",
    "\n",
    "    print('\\ntask1 function:')\n",
    "    task_a1(k_value=k_value, x_train=X_train, y_train = Y_train, x_test= X_test, y_test = Y_test)\n",
    "                                                        "
   ]
  },
  {
   "cell_type": "code",
   "execution_count": 10,
   "metadata": {},
   "outputs": [
    {
     "data": {
      "text/plain": [
       "<seaborn.axisgrid.PairGrid at 0x2d51c7e09d0>"
      ]
     },
     "execution_count": 10,
     "metadata": {},
     "output_type": "execute_result"
    }
   ],
   "source": [
    "sns.pairplot(df, hue='wheat_varieties')"
   ]
  },
  {
   "cell_type": "markdown",
   "metadata": {},
   "source": [
    "## Task a: Original Data"
   ]
  },
  {
   "cell_type": "code",
   "execution_count": null,
   "metadata": {},
   "outputs": [],
   "source": [
    "original_data = df"
   ]
  },
  {
   "cell_type": "markdown",
   "metadata": {},
   "source": [
    "## train=75%, test=25%\n",
    "\n",
    "## K = 3"
   ]
  },
  {
   "cell_type": "code",
   "execution_count": null,
   "metadata": {},
   "outputs": [
    {
     "name": "stdout",
     "output_type": "stream",
     "text": [
      "X_train shape: (157, 7)\n",
      "y_train shape: (157,)\n",
      "X_test shape: (53, 7)\n",
      "y_test shape: (53,)\n",
      "\n",
      "task1 function:\n",
      "df shape: (157, 7)\n",
      "y_train shape: (157,)\n",
      "\n",
      "CONFUSION MATRIX:\n",
      " Predicted   1   2   3\n",
      "Actual               \n",
      "1          10   1   1\n",
      "2           1  17   0\n",
      "3           0   0  23\n",
      "\n",
      "ACCURACY: 0.96\n",
      "Using  K = 3\n"
     ]
    }
   ],
   "source": [
    "task_a2(k_value= 3, train_value= 0.75, test_value= 0.25, use_data= original_data)"
   ]
  },
  {
   "cell_type": "markdown",
   "metadata": {},
   "source": [
    "Here we see that it guessed 10 + 17 + 23 = 50 correct and 1 + 1 + 1 = 3 incorrectly."
   ]
  },
  {
   "cell_type": "markdown",
   "metadata": {},
   "source": [
    "## K = 5"
   ]
  },
  {
   "cell_type": "code",
   "execution_count": null,
   "metadata": {},
   "outputs": [
    {
     "name": "stdout",
     "output_type": "stream",
     "text": [
      "X_train shape: (157, 7)\n",
      "y_train shape: (157,)\n",
      "X_test shape: (53, 7)\n",
      "y_test shape: (53,)\n",
      "\n",
      "task1 function:\n",
      "df shape: (157, 7)\n",
      "y_train shape: (157,)\n",
      "\n",
      "CONFUSION MATRIX:\n",
      " Predicted   1   2   3\n",
      "Actual               \n",
      "1          11   0   1\n",
      "2           1  17   0\n",
      "3           0   0  23\n",
      "\n",
      "ACCURACY: 0.92\n",
      "Using  K = 5\n"
     ]
    }
   ],
   "source": [
    "task_a2(k_value= 5, train_value= 0.75, test_value= 0.25, use_data= original_data)"
   ]
  },
  {
   "cell_type": "markdown",
   "metadata": {},
   "source": [
    "Here we see that it guessed 11 + 17 + 23 = 51 correct and 1 + 1 = 2 incorrectly."
   ]
  },
  {
   "cell_type": "markdown",
   "metadata": {},
   "source": [
    "## K = 7"
   ]
  },
  {
   "cell_type": "code",
   "execution_count": null,
   "metadata": {},
   "outputs": [
    {
     "name": "stdout",
     "output_type": "stream",
     "text": [
      "X_train shape: (157, 7)\n",
      "y_train shape: (157,)\n",
      "X_test shape: (53, 7)\n",
      "y_test shape: (53,)\n",
      "\n",
      "task1 function:\n",
      "df shape: (157, 7)\n",
      "y_train shape: (157,)\n",
      "\n",
      "CONFUSION MATRIX:\n",
      " Predicted   1   2   3\n",
      "Actual               \n",
      "1          12   0   0\n",
      "2           0  18   0\n",
      "3           1   0  22\n",
      "\n",
      "ACCURACY: 0.90\n",
      "Using  K = 7\n"
     ]
    }
   ],
   "source": [
    "task_a2(k_value= 7, train_value= 0.75, test_value= 0.25, use_data= original_data)"
   ]
  },
  {
   "cell_type": "markdown",
   "metadata": {},
   "source": [
    "Here we see that it guessed 12 + 18 + 22 = 52 correct and 1 incorrectly."
   ]
  },
  {
   "cell_type": "markdown",
   "metadata": {},
   "source": [
    "## train=⅔ , test=⅓"
   ]
  },
  {
   "cell_type": "markdown",
   "metadata": {},
   "source": [
    "## K = 3"
   ]
  },
  {
   "cell_type": "code",
   "execution_count": null,
   "metadata": {},
   "outputs": [
    {
     "name": "stdout",
     "output_type": "stream",
     "text": [
      "X_train shape: (138, 7)\n",
      "y_train shape: (138,)\n",
      "X_test shape: (70, 7)\n",
      "y_test shape: (70,)\n",
      "\n",
      "task1 function:\n",
      "df shape: (138, 7)\n",
      "y_train shape: (138,)\n",
      "\n",
      "CONFUSION MATRIX:\n",
      " Predicted   1   2   3\n",
      "Actual               \n",
      "1          14   1   3\n",
      "2           1  23   0\n",
      "3           0   0  28\n",
      "\n",
      "ACCURACY: 0.96\n",
      "Using  K = 3\n"
     ]
    }
   ],
   "source": [
    "task_a2(k_value= 3, train_value= 0.66, test_value= 0.33, use_data= original_data)"
   ]
  },
  {
   "cell_type": "markdown",
   "metadata": {},
   "source": [
    "## K = 5"
   ]
  },
  {
   "cell_type": "code",
   "execution_count": null,
   "metadata": {},
   "outputs": [
    {
     "name": "stdout",
     "output_type": "stream",
     "text": [
      "X_train shape: (138, 7)\n",
      "y_train shape: (138,)\n",
      "X_test shape: (70, 7)\n",
      "y_test shape: (70,)\n",
      "\n",
      "task1 function:\n",
      "df shape: (138, 7)\n",
      "y_train shape: (138,)\n",
      "\n",
      "CONFUSION MATRIX:\n",
      " Predicted   1   2   3\n",
      "Actual               \n",
      "1          16   0   2\n",
      "2           1  23   0\n",
      "3           0   0  28\n",
      "\n",
      "ACCURACY: 0.90\n",
      "Using  K = 5\n"
     ]
    }
   ],
   "source": [
    "task_a2(k_value= 5, train_value= 0.66, test_value= 0.33, use_data= original_data)"
   ]
  },
  {
   "cell_type": "markdown",
   "metadata": {},
   "source": [
    "## K = 7"
   ]
  },
  {
   "cell_type": "code",
   "execution_count": null,
   "metadata": {},
   "outputs": [
    {
     "name": "stdout",
     "output_type": "stream",
     "text": [
      "X_train shape: (138, 7)\n",
      "y_train shape: (138,)\n",
      "X_test shape: (70, 7)\n",
      "y_test shape: (70,)\n",
      "\n",
      "task1 function:\n",
      "df shape: (138, 7)\n",
      "y_train shape: (138,)\n",
      "\n",
      "CONFUSION MATRIX:\n",
      " Predicted   1   2   3\n",
      "Actual               \n",
      "1          16   0   2\n",
      "2           0  24   0\n",
      "3           1   0  27\n",
      "\n",
      "ACCURACY: 0.88\n",
      "Using  K = 7\n"
     ]
    }
   ],
   "source": [
    "task_a2(k_value= 7, train_value= 0.66, test_value= 0.33, use_data= original_data)"
   ]
  },
  {
   "cell_type": "markdown",
   "metadata": {},
   "source": [
    "## train=50%, test=50%"
   ]
  },
  {
   "cell_type": "markdown",
   "metadata": {},
   "source": [
    "## K = 3"
   ]
  },
  {
   "cell_type": "code",
   "execution_count": null,
   "metadata": {},
   "outputs": [
    {
     "name": "stdout",
     "output_type": "stream",
     "text": [
      "X_train shape: (105, 7)\n",
      "y_train shape: (105,)\n",
      "X_test shape: (105, 7)\n",
      "y_test shape: (105,)\n",
      "\n",
      "task1 function:\n",
      "df shape: (105, 7)\n",
      "y_train shape: (105,)\n",
      "\n",
      "CONFUSION MATRIX:\n",
      " Predicted   1   2   3\n",
      "Actual               \n",
      "1          21   3   4\n",
      "2           0  35   0\n",
      "3           1   0  41\n",
      "\n",
      "ACCURACY: 0.95\n",
      "Using  K = 3\n"
     ]
    }
   ],
   "source": [
    "task_a2(k_value= 3, train_value= 0.5, test_value= 0.5, use_data= original_data)"
   ]
  },
  {
   "cell_type": "markdown",
   "metadata": {},
   "source": [
    "## K = 5"
   ]
  },
  {
   "cell_type": "code",
   "execution_count": null,
   "metadata": {},
   "outputs": [
    {
     "name": "stdout",
     "output_type": "stream",
     "text": [
      "X_train shape: (105, 7)\n",
      "y_train shape: (105,)\n",
      "X_test shape: (105, 7)\n",
      "y_test shape: (105,)\n",
      "\n",
      "task1 function:\n",
      "df shape: (105, 7)\n",
      "y_train shape: (105,)\n",
      "\n",
      "CONFUSION MATRIX:\n",
      " Predicted   1   2   3\n",
      "Actual               \n",
      "1          23   2   3\n",
      "2           1  34   0\n",
      "3           1   0  41\n",
      "\n",
      "ACCURACY: 0.88\n",
      "Using  K = 5\n"
     ]
    }
   ],
   "source": [
    "task_a2(k_value= 5, train_value= 0.5, test_value= 0.5, use_data= original_data)"
   ]
  },
  {
   "cell_type": "markdown",
   "metadata": {},
   "source": [
    "## K = 7"
   ]
  },
  {
   "cell_type": "code",
   "execution_count": null,
   "metadata": {},
   "outputs": [
    {
     "name": "stdout",
     "output_type": "stream",
     "text": [
      "X_train shape: (105, 7)\n",
      "y_train shape: (105,)\n",
      "X_test shape: (105, 7)\n",
      "y_test shape: (105,)\n",
      "\n",
      "task1 function:\n",
      "df shape: (105, 7)\n",
      "y_train shape: (105,)\n",
      "\n",
      "CONFUSION MATRIX:\n",
      " Predicted   1   2   3\n",
      "Actual               \n",
      "1          23   2   3\n",
      "2           0  35   0\n",
      "3           1   0  41\n",
      "\n",
      "ACCURACY: 0.88\n",
      "Using  K = 7\n"
     ]
    }
   ],
   "source": [
    "task_a2(k_value= 7, train_value= 0.5, test_value= 0.5, use_data= original_data)"
   ]
  },
  {
   "cell_type": "markdown",
   "metadata": {},
   "source": [
    "## Task a: Normalized Data"
   ]
  },
  {
   "cell_type": "code",
   "execution_count": null,
   "metadata": {},
   "outputs": [],
   "source": [
    "# #https://stackoverflow.com/questions/26414913/normalize-columns-of-pandas-data-frame\n",
    "# from sklearn import preprocessing\n",
    "# x = df.values #returns a numpy array\n",
    "# min_max_scaler = preprocessing.MinMaxScaler()\n",
    "# x_scaled = min_max_scaler.fit_transform(x)\n",
    "# norm_df = pd.DataFrame(x_scaled)\n",
    "# print(norm_df)"
   ]
  },
  {
   "cell_type": "code",
   "execution_count": null,
   "metadata": {},
   "outputs": [],
   "source": [
    "cols_to_norm = ['area', 'perimeter','compactness','length_kernel','width_kernel','asymmetry_coefficient','length_kernel_groove']\n",
    "df[cols_to_norm] = df[cols_to_norm].apply(lambda x: (x - x.min()) / (x.max() - x.min()))\n",
    "norm_df = df"
   ]
  },
  {
   "cell_type": "code",
   "execution_count": null,
   "metadata": {},
   "outputs": [
    {
     "data": {
      "text/html": [
       "<div>\n",
       "<style scoped>\n",
       "    .dataframe tbody tr th:only-of-type {\n",
       "        vertical-align: middle;\n",
       "    }\n",
       "\n",
       "    .dataframe tbody tr th {\n",
       "        vertical-align: top;\n",
       "    }\n",
       "\n",
       "    .dataframe thead th {\n",
       "        text-align: right;\n",
       "    }\n",
       "</style>\n",
       "<table border=\"1\" class=\"dataframe\">\n",
       "  <thead>\n",
       "    <tr style=\"text-align: right;\">\n",
       "      <th></th>\n",
       "      <th>area</th>\n",
       "      <th>perimeter</th>\n",
       "      <th>compactness</th>\n",
       "      <th>length_kernel</th>\n",
       "      <th>width_kernel</th>\n",
       "      <th>asymmetry_coefficient</th>\n",
       "      <th>length_kernel_groove</th>\n",
       "      <th>wheat_varieties</th>\n",
       "    </tr>\n",
       "  </thead>\n",
       "  <tbody>\n",
       "    <tr>\n",
       "      <th>0</th>\n",
       "      <td>0.440982</td>\n",
       "      <td>0.502066</td>\n",
       "      <td>0.570780</td>\n",
       "      <td>0.486486</td>\n",
       "      <td>0.486101</td>\n",
       "      <td>0.189302</td>\n",
       "      <td>0.345150</td>\n",
       "      <td>1</td>\n",
       "    </tr>\n",
       "    <tr>\n",
       "      <th>1</th>\n",
       "      <td>0.405099</td>\n",
       "      <td>0.446281</td>\n",
       "      <td>0.662432</td>\n",
       "      <td>0.368806</td>\n",
       "      <td>0.501069</td>\n",
       "      <td>0.032883</td>\n",
       "      <td>0.215165</td>\n",
       "      <td>1</td>\n",
       "    </tr>\n",
       "    <tr>\n",
       "      <th>2</th>\n",
       "      <td>0.349386</td>\n",
       "      <td>0.347107</td>\n",
       "      <td>0.879310</td>\n",
       "      <td>0.220721</td>\n",
       "      <td>0.503920</td>\n",
       "      <td>0.251453</td>\n",
       "      <td>0.150665</td>\n",
       "      <td>1</td>\n",
       "    </tr>\n",
       "    <tr>\n",
       "      <th>3</th>\n",
       "      <td>0.306893</td>\n",
       "      <td>0.316116</td>\n",
       "      <td>0.793103</td>\n",
       "      <td>0.239302</td>\n",
       "      <td>0.533856</td>\n",
       "      <td>0.194243</td>\n",
       "      <td>0.140817</td>\n",
       "      <td>1</td>\n",
       "    </tr>\n",
       "    <tr>\n",
       "      <th>4</th>\n",
       "      <td>0.524079</td>\n",
       "      <td>0.533058</td>\n",
       "      <td>0.864791</td>\n",
       "      <td>0.427365</td>\n",
       "      <td>0.664291</td>\n",
       "      <td>0.076701</td>\n",
       "      <td>0.322994</td>\n",
       "      <td>1</td>\n",
       "    </tr>\n",
       "    <tr>\n",
       "      <th>...</th>\n",
       "      <td>...</td>\n",
       "      <td>...</td>\n",
       "      <td>...</td>\n",
       "      <td>...</td>\n",
       "      <td>...</td>\n",
       "      <td>...</td>\n",
       "      <td>...</td>\n",
       "      <td>...</td>\n",
       "    </tr>\n",
       "    <tr>\n",
       "      <th>205</th>\n",
       "      <td>0.151086</td>\n",
       "      <td>0.163223</td>\n",
       "      <td>0.637024</td>\n",
       "      <td>0.134009</td>\n",
       "      <td>0.250178</td>\n",
       "      <td>0.372635</td>\n",
       "      <td>0.172821</td>\n",
       "      <td>3</td>\n",
       "    </tr>\n",
       "    <tr>\n",
       "      <th>206</th>\n",
       "      <td>0.060434</td>\n",
       "      <td>0.097107</td>\n",
       "      <td>0.390200</td>\n",
       "      <td>0.135698</td>\n",
       "      <td>0.117605</td>\n",
       "      <td>0.462872</td>\n",
       "      <td>0.238306</td>\n",
       "      <td>3</td>\n",
       "    </tr>\n",
       "    <tr>\n",
       "      <th>207</th>\n",
       "      <td>0.246459</td>\n",
       "      <td>0.258264</td>\n",
       "      <td>0.727768</td>\n",
       "      <td>0.189752</td>\n",
       "      <td>0.429081</td>\n",
       "      <td>0.981667</td>\n",
       "      <td>0.264402</td>\n",
       "      <td>3</td>\n",
       "    </tr>\n",
       "    <tr>\n",
       "      <th>208</th>\n",
       "      <td>0.118036</td>\n",
       "      <td>0.165289</td>\n",
       "      <td>0.399274</td>\n",
       "      <td>0.155405</td>\n",
       "      <td>0.146828</td>\n",
       "      <td>0.368344</td>\n",
       "      <td>0.258493</td>\n",
       "      <td>3</td>\n",
       "    </tr>\n",
       "    <tr>\n",
       "      <th>209</th>\n",
       "      <td>0.161473</td>\n",
       "      <td>0.192149</td>\n",
       "      <td>0.547187</td>\n",
       "      <td>0.193694</td>\n",
       "      <td>0.245189</td>\n",
       "      <td>0.633463</td>\n",
       "      <td>0.267848</td>\n",
       "      <td>3</td>\n",
       "    </tr>\n",
       "  </tbody>\n",
       "</table>\n",
       "<p>210 rows × 8 columns</p>\n",
       "</div>"
      ],
      "text/plain": [
       "         area  perimeter  compactness  length_kernel  width_kernel  \\\n",
       "0    0.440982   0.502066     0.570780       0.486486      0.486101   \n",
       "1    0.405099   0.446281     0.662432       0.368806      0.501069   \n",
       "2    0.349386   0.347107     0.879310       0.220721      0.503920   \n",
       "3    0.306893   0.316116     0.793103       0.239302      0.533856   \n",
       "4    0.524079   0.533058     0.864791       0.427365      0.664291   \n",
       "..        ...        ...          ...            ...           ...   \n",
       "205  0.151086   0.163223     0.637024       0.134009      0.250178   \n",
       "206  0.060434   0.097107     0.390200       0.135698      0.117605   \n",
       "207  0.246459   0.258264     0.727768       0.189752      0.429081   \n",
       "208  0.118036   0.165289     0.399274       0.155405      0.146828   \n",
       "209  0.161473   0.192149     0.547187       0.193694      0.245189   \n",
       "\n",
       "     asymmetry_coefficient  length_kernel_groove  wheat_varieties  \n",
       "0                 0.189302              0.345150                1  \n",
       "1                 0.032883              0.215165                1  \n",
       "2                 0.251453              0.150665                1  \n",
       "3                 0.194243              0.140817                1  \n",
       "4                 0.076701              0.322994                1  \n",
       "..                     ...                   ...              ...  \n",
       "205               0.372635              0.172821                3  \n",
       "206               0.462872              0.238306                3  \n",
       "207               0.981667              0.264402                3  \n",
       "208               0.368344              0.258493                3  \n",
       "209               0.633463              0.267848                3  \n",
       "\n",
       "[210 rows x 8 columns]"
      ]
     },
     "execution_count": 28,
     "metadata": {},
     "output_type": "execute_result"
    }
   ],
   "source": [
    "norm_df"
   ]
  },
  {
   "cell_type": "markdown",
   "metadata": {},
   "source": [
    "## train=75%, test=25%\n",
    "## K = 3"
   ]
  },
  {
   "cell_type": "code",
   "execution_count": null,
   "metadata": {},
   "outputs": [
    {
     "name": "stdout",
     "output_type": "stream",
     "text": [
      "X_train shape: (157, 7)\n",
      "y_train shape: (157,)\n",
      "X_test shape: (53, 7)\n",
      "y_test shape: (53,)\n",
      "\n",
      "task1 function:\n",
      "df shape: (157, 7)\n",
      "y_train shape: (157,)\n",
      "\n",
      "CONFUSION MATRIX:\n",
      " Predicted   1   2   3\n",
      "Actual               \n",
      "1          11   0   1\n",
      "2           0  18   0\n",
      "3           1   0  22\n",
      "\n",
      "ACCURACY: 0.96\n",
      "Using  K = 3\n"
     ]
    }
   ],
   "source": [
    "task_a2(k_value= 3, train_value= 0.75, test_value= 0.25, use_data= norm_df)"
   ]
  },
  {
   "cell_type": "markdown",
   "metadata": {},
   "source": [
    "## K = 5"
   ]
  },
  {
   "cell_type": "code",
   "execution_count": null,
   "metadata": {},
   "outputs": [
    {
     "name": "stdout",
     "output_type": "stream",
     "text": [
      "X_train shape: (157, 7)\n",
      "y_train shape: (157,)\n",
      "X_test shape: (53, 7)\n",
      "y_test shape: (53,)\n",
      "\n",
      "task1 function:\n",
      "df shape: (157, 7)\n",
      "y_train shape: (157,)\n",
      "\n",
      "CONFUSION MATRIX:\n",
      " Predicted   1   2   3\n",
      "Actual               \n",
      "1          12   0   0\n",
      "2           0  18   0\n",
      "3           1   0  22\n",
      "\n",
      "ACCURACY: 0.94\n",
      "Using  K = 5\n"
     ]
    }
   ],
   "source": [
    "task_a2(k_value= 5, train_value= 0.75, test_value= 0.25, use_data= norm_df)"
   ]
  },
  {
   "cell_type": "markdown",
   "metadata": {},
   "source": [
    "## K = 7"
   ]
  },
  {
   "cell_type": "code",
   "execution_count": null,
   "metadata": {},
   "outputs": [
    {
     "name": "stdout",
     "output_type": "stream",
     "text": [
      "X_train shape: (157, 7)\n",
      "y_train shape: (157,)\n",
      "X_test shape: (53, 7)\n",
      "y_test shape: (53,)\n",
      "\n",
      "task1 function:\n",
      "df shape: (157, 7)\n",
      "y_train shape: (157,)\n",
      "\n",
      "CONFUSION MATRIX:\n",
      " Predicted   1   2   3\n",
      "Actual               \n",
      "1          12   0   0\n",
      "2           0  18   0\n",
      "3           1   0  22\n",
      "\n",
      "ACCURACY: 0.92\n",
      "Using  K = 7\n"
     ]
    }
   ],
   "source": [
    "task_a2(k_value= 7, train_value= 0.75, test_value= 0.25, use_data= norm_df)"
   ]
  },
  {
   "cell_type": "markdown",
   "metadata": {},
   "source": [
    "## train=⅔ , test=⅓\n",
    "## K = 3"
   ]
  },
  {
   "cell_type": "code",
   "execution_count": null,
   "metadata": {},
   "outputs": [
    {
     "name": "stdout",
     "output_type": "stream",
     "text": [
      "X_train shape: (138, 7)\n",
      "y_train shape: (138,)\n",
      "X_test shape: (70, 7)\n",
      "y_test shape: (70,)\n",
      "\n",
      "task1 function:\n",
      "df shape: (138, 7)\n",
      "y_train shape: (138,)\n",
      "\n",
      "CONFUSION MATRIX:\n",
      " Predicted   1   2   3\n",
      "Actual               \n",
      "1          16   0   2\n",
      "2           0  24   0\n",
      "3           1   0  27\n",
      "\n",
      "ACCURACY: 0.95\n",
      "Using  K = 3\n"
     ]
    }
   ],
   "source": [
    "task_a2(k_value= 3, train_value= 0.66, test_value= 0.33, use_data= norm_df)"
   ]
  },
  {
   "cell_type": "markdown",
   "metadata": {},
   "source": [
    "## K = 5"
   ]
  },
  {
   "cell_type": "code",
   "execution_count": null,
   "metadata": {},
   "outputs": [
    {
     "name": "stdout",
     "output_type": "stream",
     "text": [
      "X_train shape: (138, 7)\n",
      "y_train shape: (138,)\n",
      "X_test shape: (70, 7)\n",
      "y_test shape: (70,)\n",
      "\n",
      "task1 function:\n",
      "df shape: (138, 7)\n",
      "y_train shape: (138,)\n",
      "\n",
      "CONFUSION MATRIX:\n",
      " Predicted   1   2   3\n",
      "Actual               \n",
      "1          17   0   1\n",
      "2           0  24   0\n",
      "3           1   0  27\n",
      "\n",
      "ACCURACY: 0.93\n",
      "Using  K = 5\n"
     ]
    }
   ],
   "source": [
    "task_a2(k_value= 5, train_value= 0.66, test_value= 0.33, use_data= norm_df)"
   ]
  },
  {
   "cell_type": "markdown",
   "metadata": {},
   "source": [
    "## K = 7"
   ]
  },
  {
   "cell_type": "code",
   "execution_count": null,
   "metadata": {},
   "outputs": [
    {
     "name": "stdout",
     "output_type": "stream",
     "text": [
      "X_train shape: (138, 7)\n",
      "y_train shape: (138,)\n",
      "X_test shape: (70, 7)\n",
      "y_test shape: (70,)\n",
      "\n",
      "task1 function:\n",
      "df shape: (138, 7)\n",
      "y_train shape: (138,)\n",
      "\n",
      "CONFUSION MATRIX:\n",
      " Predicted   1   2   3\n",
      "Actual               \n",
      "1          17   0   1\n",
      "2           0  24   0\n",
      "3           1   0  27\n",
      "\n",
      "ACCURACY: 0.94\n",
      "Using  K = 7\n"
     ]
    }
   ],
   "source": [
    "task_a2(k_value= 7, train_value= 0.66, test_value= 0.33, use_data= norm_df)"
   ]
  },
  {
   "cell_type": "markdown",
   "metadata": {},
   "source": [
    "## train=50%, test=50%\n",
    "## K = 3"
   ]
  },
  {
   "cell_type": "code",
   "execution_count": null,
   "metadata": {},
   "outputs": [
    {
     "name": "stdout",
     "output_type": "stream",
     "text": [
      "X_train shape: (105, 7)\n",
      "y_train shape: (105,)\n",
      "X_test shape: (105, 7)\n",
      "y_test shape: (105,)\n",
      "\n",
      "task1 function:\n",
      "df shape: (105, 7)\n",
      "y_train shape: (105,)\n",
      "\n",
      "CONFUSION MATRIX:\n",
      " Predicted   1   2   3\n",
      "Actual               \n",
      "1          24   1   3\n",
      "2           1  34   0\n",
      "3           3   0  39\n",
      "\n",
      "ACCURACY: 0.94\n",
      "Using  K = 3\n"
     ]
    }
   ],
   "source": [
    "task_a2(k_value= 3, train_value= 0.5, test_value= 0.5, use_data= norm_df)"
   ]
  },
  {
   "cell_type": "markdown",
   "metadata": {},
   "source": [
    "## K = 5"
   ]
  },
  {
   "cell_type": "code",
   "execution_count": null,
   "metadata": {},
   "outputs": [
    {
     "name": "stdout",
     "output_type": "stream",
     "text": [
      "X_train shape: (105, 7)\n",
      "y_train shape: (105,)\n",
      "X_test shape: (105, 7)\n",
      "y_test shape: (105,)\n",
      "\n",
      "task1 function:\n",
      "df shape: (105, 7)\n",
      "y_train shape: (105,)\n",
      "\n",
      "CONFUSION MATRIX:\n",
      " Predicted   1   2   3\n",
      "Actual               \n",
      "1          25   1   2\n",
      "2           1  34   0\n",
      "3           2   0  40\n",
      "\n",
      "ACCURACY: 0.94\n",
      "Using  K = 5\n"
     ]
    }
   ],
   "source": [
    "task_a2(k_value= 5, train_value= 0.5, test_value= 0.5, use_data= norm_df)"
   ]
  },
  {
   "cell_type": "markdown",
   "metadata": {},
   "source": [
    "## K = 7"
   ]
  },
  {
   "cell_type": "code",
   "execution_count": null,
   "metadata": {},
   "outputs": [
    {
     "name": "stdout",
     "output_type": "stream",
     "text": [
      "X_train shape: (105, 7)\n",
      "y_train shape: (105,)\n",
      "X_test shape: (105, 7)\n",
      "y_test shape: (105,)\n",
      "\n",
      "task1 function:\n",
      "df shape: (105, 7)\n",
      "y_train shape: (105,)\n",
      "\n",
      "CONFUSION MATRIX:\n",
      " Predicted   1   2   3\n",
      "Actual               \n",
      "1          25   1   2\n",
      "2           1  34   0\n",
      "3           2   0  40\n",
      "\n",
      "ACCURACY: 0.93\n",
      "Using  K = 7\n"
     ]
    }
   ],
   "source": [
    "task_a2(k_value= 7, train_value= 0.5, test_value= 0.5, use_data= norm_df)"
   ]
  }
 ],
 "metadata": {
  "interpreter": {
   "hash": "50f6d2a62cba7b4a04446430090b226dedeaa4907ec121cb2dd7ff424b4ef9c0"
  },
  "kernelspec": {
   "display_name": "Python 3.10.0 64-bit",
   "language": "python",
   "name": "python3"
  },
  "language_info": {
   "codemirror_mode": {
    "name": "ipython",
    "version": 3
   },
   "file_extension": ".py",
   "mimetype": "text/x-python",
   "name": "python",
   "nbconvert_exporter": "python",
   "pygments_lexer": "ipython3",
   "version": "3.9.0"
  },
  "orig_nbformat": 4
 },
 "nbformat": 4,
 "nbformat_minor": 2
}
